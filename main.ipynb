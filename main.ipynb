{
 "cells": [
  {
   "cell_type": "markdown",
   "metadata": {},
   "source": [
    "# PROJECT"
   ]
  },
  {
   "cell_type": "markdown",
   "metadata": {},
   "source": [
    "### Download of the NSP13 Protein (6zsl comformation)"
   ]
  },
  {
   "cell_type": "code",
   "execution_count": 7,
   "metadata": {},
   "outputs": [],
   "source": [
    "import Bio\n",
    "from Bio.PDB import PDBList\n",
    "#from pathlib import Path\n",
    "\n",
    "def retrive_nsp13(structure):\n",
    "    \"\"\"Download a NSP13 structure from the PDB\n",
    "    Returns\n",
    "    -------\n",
    "    structure : .cif file of the structure\n",
    "    \"\"\"\n",
    "    pdbl = PDBList()\n",
    "    pdbl.download_pdb_files([structure], pdir=\"NSP13\", file_format=\"pdb\")\n",
    "    #MEET_U --> meetu2024\n",
    "    #fpath = Path.home() / f\"Desktop/M2/S1/meetu2024/2023-2024_Team4-SU/NSP13/{structure}.pdb\"\n",
    "    fpath = f\"./NSP13/{structure}.pdb\"\n",
    "    with open(fpath) as f:\n",
    "        return f.read()\n",
    "    \n",
    "#structure=\"6zsl\"\n",
    "#nsp13 = retrive_nsp13(structure)\n",
    "#nsp13"
   ]
  },
  {
   "cell_type": "markdown",
   "metadata": {},
   "source": [
    "### VISUALIZATION WITH PYMOL"
   ]
  },
  {
   "cell_type": "code",
   "execution_count": 8,
   "metadata": {},
   "outputs": [
    {
     "name": "stdout",
     "output_type": "stream",
     "text": [
      "PyMOL failed to start, dumping diagnostics...\n",
      "pymol-2.5.7-py312h1880af8_0.json\n",
      "conda build: py312h1880af8_0 https://conda.anaconda.org/schrodinger/win-64\n",
      "pymol-bundle-2.5.7-0.json\n",
      "conda build: 0 https://conda.anaconda.org/schrodinger/win-64\n",
      "pymol-upgrade-helper-1.1-1.json\n",
      "conda build: 1 https://conda.anaconda.org/schrodinger/win-64\n",
      "pymol-web-examples-2.4-1.json\n",
      "conda build: 1 https://conda.anaconda.org/schrodinger/noarch\n",
      "\n",
      "Operating System:\n",
      "Windows-11-10.0.22621-SP0\n",
      "PyQt5 5.15.10 (Qt 5.15.2)\n",
      "\n",
      "Python:\n",
      "3.12.1 | packaged by conda-forge | (main, Dec 23 2023, 07:53:56) [MSC v.1937 64 bit (AMD64)]\n",
      "prefix=c:\\Users\\LALIN\\anaconda3\\envs\\pymol\n",
      "executable=c:\\Users\\LALIN\\anaconda3\\envs\\pymol\\python.exe\n",
      "filesystemencoding=utf-8\n",
      "\n",
      "Qt, Python and PyMOL Environment Variables:\n",
      "PYDEVD_IPYTHON_COMPATIBLE_DEBUGGING=1\n",
      "PYDEVD_USE_FRAME_EVAL=NO\n",
      "PYMOL_DATA=c:\\Users\\LALIN\\anaconda3\\envs\\pymol\\share\\pymol\\data\n",
      "PYMOL_HOME=C:\\Users\\LALIN\\AppData\\Local\\Schrodinger\\PyMOL2\n",
      "PYMOL_PATH=c:\\Users\\LALIN\\anaconda3\\envs\\pymol\\share\\pymol\n",
      "PYTHONIOENCODING=utf-8\n",
      "PYTHONUNBUFFERED=1\n",
      "PYTHONUTF8=1\n",
      "QT_API=pyqt5\n",
      "\n",
      "PATH:\n",
      "c:\\Users\\LALIN\\anaconda3\\envs\\pymol\\Scripts;c:\\Users\\LALIN\\anaconda3\\envs\\pymo\n",
      "l\\Library\\bin;c:\\Users\\LALIN\\anaconda3\\envs\\pymol;C:\\Users\\LALIN\\anaconda3\\env\n",
      "s\\pymol;C:\\Users\\LALIN\\anaconda3\\envs\\pymol\\Library\\mingw-\n",
      "w64\\bin;C:\\Users\\LALIN\\anaconda3\\envs\\pymol\\Library\\usr\\bin;C:\\Users\\LALIN\\ana\n",
      "conda3\\envs\\pymol\\Library\\bin;C:\\Users\\LALIN\\anaconda3\\envs\\pymol\\Scripts;C:\\U\n",
      "sers\\LALIN\\anaconda3\\envs\\pymol\\bin;C:\\Users\\LALIN\\anaconda3\\condabin;C:\\Progr\n",
      "am Files\\Common Files\\Oracle\\Java\\javapath;C:\\WINDOWS\\system32;C:\\WINDOWS;C:\\W\n",
      "INDOWS\\System32\\Wbem;C:\\WINDOWS\\System32\\WindowsPowerShell\\v1.0;C:\\WINDOWS\\Sys\n",
      "tem32\\OpenSSH;C:\\Program Files\\Wolfram Research\\WolframScript;C:\\Program\n",
      "Files\\PuTTY;C:\\Program Files\\MATLAB\\R2021a\\bin;C:\\Program\n",
      "Files\\Git\\cmd;C:\\Program Files\\Java\\jdk-20\\bin;C:\\Program\n",
      "Files\\OpenBabel-3.1.1;C:\\Program Files\\OpenBabel-\n",
      "2.4.1;C:\\WINDOWS\\system32;C:\\WINDOWS;C:\\WINDOWS\\System32\\Wbem;C:\\WINDOWS\\Syste\n",
      "m32\\WindowsPowerShell\\v1.0;C:\\WINDOWS\\System32\\OpenSSH;C:\\Program\n",
      "Files\\Wolfram Research\\WolframScript;C:\\Program Files\\PuTTY;C:\\Program\n",
      "Files\\MATLAB\\R2021a\\bin;C:\\Program Files\\Git\\cmd;C:\\Users\\LALIN\\AppData\\Local\\\n",
      "Microsoft\\WindowsApps;C:\\Users\\LALIN\\AppData\\Local\\Programs\\Microsoft VS\n",
      "Code\\bin\n",
      "\n",
      "Libraries:\n",
      "c:\\Users\\LALIN\\anaconda3\\envs\\pymol\\Library\\bin\\libpng16.dll\n",
      "c:\\Users\\LALIN\\anaconda3\\envs\\pymol\\Library\\bin\\libxml2.dll\n",
      "c:\\Users\\LALIN\\anaconda3\\envs\\pymol\\Library\\bin\\freetype.dll\n",
      "c:\\Users\\LALIN\\anaconda3\\envs\\pymol\\Library\\bin\\glew32.dll\n",
      "C:\\WINDOWS\\system32\\opengl32.dll\n",
      "C:\\WINDOWS\\system32\\glu32.dll\n",
      "C:\\WINDOWS\\system32\\Ws2_32.dll\n",
      "C:\\WINDOWS\\system32\\comctl32.dll\n",
      "C:\\WINDOWS\\system32\\comdlg32.dll\n",
      "C:\\WINDOWS\\system32\\dhcpcsvc.dll\n",
      "C:\\WINDOWS\\system32\\netapi32.dll\n",
      "C:\\WINDOWS\\system32\\User32.dll\n",
      "C:\\WINDOWS\\system32\\Advapi32.dll\n",
      "C:\\WINDOWS\\system32\\oleaut32.dll\n",
      "C:\\WINDOWS\\system32\\ole32.dll\n",
      "C:\\WINDOWS\\system32\\shell32.dll\n",
      "C:\\WINDOWS\\system32\\shlwapi.dll\n",
      "\n"
     ]
    },
    {
     "ename": "ImportError",
     "evalue": "DLL load failed while importing _cmd: Le module spécifié est introuvable.",
     "output_type": "error",
     "traceback": [
      "\u001b[1;31m---------------------------------------------------------------------------\u001b[0m",
      "\u001b[1;31mImportError\u001b[0m                               Traceback (most recent call last)",
      "Cell \u001b[1;32mIn[8], line 1\u001b[0m\n\u001b[1;32m----> 1\u001b[0m \u001b[38;5;28;01mimport\u001b[39;00m \u001b[38;5;21;01mpymol\u001b[39;00m\n\u001b[0;32m      2\u001b[0m \u001b[38;5;28;01mimport\u001b[39;00m \u001b[38;5;21;01mcmd\u001b[39;00m \n\u001b[0;32m      4\u001b[0m \u001b[38;5;66;03m#Visualization w Pymol\u001b[39;00m\n",
      "File \u001b[1;32mc:\\Users\\LALIN\\anaconda3\\envs\\pymol\\Lib\\site-packages\\pymol\\__init__.py:620\u001b[0m\n\u001b[0;32m    617\u001b[0m     _ctypes\u001b[38;5;241m.\u001b[39mLoadLibrary(filename)\n\u001b[0;32m    619\u001b[0m \u001b[38;5;28;01mtry\u001b[39;00m:\n\u001b[1;32m--> 620\u001b[0m     \u001b[38;5;28;01mimport\u001b[39;00m \u001b[38;5;21;01mpymol\u001b[39;00m\u001b[38;5;21;01m.\u001b[39;00m\u001b[38;5;21;01m_cmd\u001b[39;00m\n\u001b[0;32m    621\u001b[0m \u001b[38;5;28;01mexcept\u001b[39;00m \u001b[38;5;167;01mImportError\u001b[39;00m:\n\u001b[0;32m    622\u001b[0m     _report_cmd_DLL_problem()\n",
      "\u001b[1;31mImportError\u001b[0m: DLL load failed while importing _cmd: Le module spécifié est introuvable."
     ]
    }
   ],
   "source": [
    "import pymol\n",
    "import cmd \n",
    "\n",
    "#Visualization w Pymol\n",
    "\n",
    "def visualize_protein(pdb_code):\n",
    "    \"\"\"\n",
    "    Visualize a protein structure using PyMOL.\n",
    "\n",
    "    Parameters:\n",
    "    - pdb_code (str): The PDB code of the protein.\n",
    "\n",
    "    Example:\n",
    "    visualize_protein(\"6zsl\")\n",
    "    \"\"\"\n",
    "    # Start PyMOL\n",
    "    pymol.finish_launching(['pymol', '-qc'])\n",
    "\n",
    "    # Fetch the protein structure\n",
    "    cmd.fetch(pdb_code)\n",
    "\n",
    "    # Show the protein as a ribbon\n",
    "    cmd.show(\"cartoon\")\n",
    "\n",
    "    # Display the protein structure\n",
    "    cmd.zoom()\n",
    "\n",
    "    # Keep the PyMOL window open\n",
    "    cmd.rock()\n",
    "\n",
    "#visualize_protein(nsp13)"
   ]
  },
  {
   "cell_type": "markdown",
   "metadata": {},
   "source": [
    "### POCKET DETECTION (P2RANK)"
   ]
  },
  {
   "cell_type": "markdown",
   "metadata": {},
   "source": [
    "1. Pocket Generation"
   ]
  },
  {
   "cell_type": "code",
   "execution_count": null,
   "metadata": {},
   "outputs": [
    {
     "data": {
      "text/plain": [
       "CompletedProcess(args='c:/PROGRA~1/Git/bin/bash.exe ./p2rank/prank.sh predict -f ./NSP13/6zsl.cif -o ./pockets', returncode=1)"
      ]
     },
     "execution_count": 9,
     "metadata": {},
     "output_type": "execute_result"
    }
   ],
   "source": [
    "#Pocket creation script \n",
    "\n",
    "import subprocess\n",
    "\n",
    "# Path to the p2rank script (prank.sh)\n",
    "p2rank_path = './p2rank/prank.sh'\n",
    "\n",
    "# Path to Git Bash for the Windows environment (to be replaced or improved if necessary)\n",
    "bash_path = 'c:/PROGRA~1/Git/bin/bash.exe'  # Make sure to set the correct path\n",
    "\n",
    "# Folder to store pocket prediction results\n",
    "output_folder = './pockets'\n",
    "\n",
    "# Command to execute p2rank and predict pockets\n",
    "command = f'{bash_path} {p2rank_path} predict -f ./NSP13/6zsl.cif -o {output_folder}'\n",
    "\n",
    "# Execution of the command\n",
    "subprocess.run(command, shell=True)\n"
   ]
  },
  {
   "cell_type": "markdown",
   "metadata": {},
   "source": [
    "2. Display of the pockets of the 6ZSL comformation"
   ]
  },
  {
   "cell_type": "code",
   "execution_count": null,
   "metadata": {},
   "outputs": [
    {
     "name": "stdout",
     "output_type": "stream",
     "text": [
      "   name         rank     score   probability   sas_points   surf_atoms  \\\n",
      "0  pocket1         1     16.76         0.786           95           54   \n",
      "1  pocket2         2     12.94         0.668           84           38   \n",
      "\n",
      "      center_x     center_y     center_z  \\\n",
      "0     -13.6826      11.0843     -74.6564   \n",
      "1     -18.4473      34.5627     -22.8999   \n",
      "\n",
      "                                         residue_ids  \\\n",
      "0   A_284 A_285 A_287 A_288 A_289 A_290 A_312 A_3...   \n",
      "1   B_284 B_285 B_287 B_288 B_289 B_313 B_316 B_3...   \n",
      "\n",
      "                                       surf_atom_ids  \n",
      "0   6511 6517 6518 6519 6520 6528 6529 6539 6540 ...  \n",
      "1   2116 2122 2123 2133 2134 2137 2141 2144 2145 ...  \n"
     ]
    }
   ],
   "source": [
    "#Reading / Display of the pockets\n",
    "\n",
    "import pandas as pd\n",
    "\n",
    "csv = f'./pockets/6zsl.cif_predictions.csv'\n",
    "r_csv = pd.read_csv(csv)\n",
    "\n",
    "df = pd.DataFrame(r_csv)\n",
    "print(df.head(2))"
   ]
  },
  {
   "cell_type": "markdown",
   "metadata": {},
   "source": [
    "### LIGAND PREPARATION"
   ]
  },
  {
   "cell_type": "markdown",
   "metadata": {},
   "source": [
    "1. Downloading the ligands from the ZINC database w the script"
   ]
  },
  {
   "cell_type": "code",
   "execution_count": null,
   "metadata": {},
   "outputs": [],
   "source": [
    "import subprocess\n",
    "\n",
    "file = f'./ligands-downloader/ligand_downloader.py'\n",
    "\n",
    "# Exécution du script\n",
    "process = subprocess.run(['python', file], capture_output=True, text=True)\n"
   ]
  },
  {
   "cell_type": "markdown",
   "metadata": {},
   "source": [
    "2. Display of the downloaded ligands "
   ]
  },
  {
   "cell_type": "code",
   "execution_count": null,
   "metadata": {},
   "outputs": [
    {
     "name": "stdout",
     "output_type": "stream",
     "text": [
      "                      0\n",
      "0  ZINC001485529916.sdf\n",
      "1  ZINC001485529917.sdf\n",
      "2  ZINC001485529920.sdf\n"
     ]
    }
   ],
   "source": [
    "import os\n",
    "\n",
    "l_file = f'./ligands/zinc_database/'\n",
    "\n",
    "#Command to read all the zinc files that were downloaded and put them in a dataframe \n",
    "ligands_rep = [lig for lig in os.listdir(l_file) if os.path.isfile(os.path.join(l_file, lig))]\n",
    "pd_ligrep = pd.DataFrame(ligands_rep)\n",
    "\n",
    "#Display of the first 3 (to make the file more readable)\n",
    "print(pd_ligrep.head(3))\n",
    "#for nom_dossier in noms_dossiers:\n",
    "#    print(ligands_rep)"
   ]
  },
  {
   "cell_type": "markdown",
   "metadata": {},
   "source": [
    "3. Preparation of the ligands for the docking with Rdkit"
   ]
  },
  {
   "cell_type": "markdown",
   "metadata": {},
   "source": [
    "    3.1 - Utilisation de RDKIT pour préparer les ligands (ajout d'hydrogènes, génération de comformation de molécules...)"
   ]
  },
  {
   "cell_type": "code",
   "execution_count": null,
   "metadata": {},
   "outputs": [],
   "source": [
    "#Preparation avec rdkit\n",
    "\n",
    "from rdkit import Chem\n",
    "from rdkit.Chem import AllChem\n",
    "#from tqdm import tqdm\n",
    "import os\n",
    "\n",
    "#Lien avec le fichier csv contenant la liste des ligands à télécharger\n",
    "csv_file = './ligands/ligands_downloader/csv_files/substances.csv'  \n",
    "df = pd.read_csv(csv_file,sep = ';')\n",
    "\n",
    "# Charger les fichiers SDF et préparer les ligands qu'on a téléchargé\n",
    "ligands_folder = './ligands/zinc_database/'\n",
    "os.makedirs(ligands_folder, exist_ok=True)\n",
    "\n",
    "for zinc_id in df['zinc_id']:\n",
    "    sdf_file = f'{ligands_folder}/{zinc_id}.sdf'\n",
    "\n",
    "    # Charger les molécules depuis le fichier SDF\n",
    "    suppl = Chem.SDMolSupplier(sdf_file)\n",
    "    ligands = [mol for mol in suppl if mol is not None]\n",
    "\n",
    "    # Ajout des hydrogènes explicites et génération des conformations 3D\n",
    "    for mol in ligands:\n",
    "        mol = Chem.AddHs(mol)\n",
    "        AllChem.EmbedMolecule(mol)\n",
    "\n",
    "    # Sauvegarder les molécules modifiées\n",
    "\n",
    "    os.makedirs('./ligands/zinc_db_prepared/', exist_ok=True)\n",
    "    modified_sdf_file = f'./ligands/zinc_db_prepared/{zinc_id}_prepared.sdf'\n",
    "    w = Chem.SDWriter(modified_sdf_file)\n",
    "    for mol in ligands:\n",
    "        w.write(mol)\n",
    "    w.close()"
   ]
  },
  {
   "cell_type": "markdown",
   "metadata": {},
   "source": [
    "    3.2 - Utilisation de openbabel pour convertir les fichiers .sdf préparés en .pdbqt"
   ]
  },
  {
   "cell_type": "code",
   "execution_count": null,
   "metadata": {},
   "outputs": [],
   "source": [
    "#conversion en pdqtb avec openbabel\n",
    "\n",
    "import os\n",
    "import subprocess\n",
    "\n",
    "# Chemin des fichiers SDF et dossier de sortie\n",
    "ligands_folder = './ligands/zinc_db_prepared/'\n",
    "output_folder = './ligands/zinc_db_pdbqt/'\n",
    "os.makedirs(output_folder, exist_ok=True)\n",
    "\n",
    "for zinc_id in df['zinc_id']:\n",
    "    sdf_file = f'{ligands_folder}/{zinc_id}_prepared.sdf'\n",
    "    output_pdbqt_file = f'{output_folder}/{zinc_id}_prepared.pdbqt'\n",
    "\n",
    "    # Utilisation de Open Babel pour convertir SDF en PDBQT\n",
    "    subprocess.run(['babel', sdf_file, '-O', output_pdbqt_file, '-xh'])  # -xh ajoute des hydrogènes si nécessaire\n",
    "\n",
    "    #print(f\"Fichier PDBQT généré pour {zinc_id}\")\n"
   ]
  },
  {
   "cell_type": "markdown",
   "metadata": {},
   "source": [
    "4. Display of the prepared ligands"
   ]
  },
  {
   "cell_type": "code",
   "execution_count": null,
   "metadata": {},
   "outputs": [
    {
     "name": "stdout",
     "output_type": "stream",
     "text": [
      "                                 0\n",
      "0  ZINC001485529916_prepared.pdbqt\n",
      "1  ZINC001485529917_prepared.pdbqt\n",
      "2  ZINC001485529920_prepared.pdbqt\n"
     ]
    }
   ],
   "source": [
    "import os\n",
    "import pandas as pd \n",
    "\n",
    "l_file = f'./ligands/zinc_db_pdbqt/'\n",
    "\n",
    "#Command to read all the zinc files that were downloaded and put them in a dataframe \n",
    "pligpd_rep = [lig for lig in os.listdir(l_file) if os.path.isfile(os.path.join(l_file, lig))]\n",
    "pd_ligpd = pd.DataFrame(pligpd_rep)\n",
    "\n",
    "#Display of the first 3 (to make the file more readable)\n",
    "print(pd_ligpd.head(3))\n",
    "#for nom_dossier in noms_dossiers:\n",
    "#    print(ligands_rep)"
   ]
  },
  {
   "cell_type": "markdown",
   "metadata": {},
   "source": [
    "### DOCKING ENGINE"
   ]
  },
  {
   "cell_type": "markdown",
   "metadata": {},
   "source": [
    "1. Selection of the binding pocket"
   ]
  },
  {
   "cell_type": "code",
   "execution_count": 9,
   "metadata": {},
   "outputs": [],
   "source": [
    "import pandas as pd\n",
    "# 1. Retrieve the pocket\n",
    "\n",
    "pockets = pd.read_csv(\"pockets/6zsl.cif_predictions.csv\")\n",
    "pockets.columns = [col.strip() for col in pockets.columns]\n",
    "best_pocket = pockets.query(\"rank == 1\") \n",
    "(center_x, center_y, center_z) = best_pocket[[\"center_x\", \"center_y\", \"center_z\"]].iloc[0]\n",
    "\n",
    "#print(best_pocket)"
   ]
  },
  {
   "cell_type": "markdown",
   "metadata": {},
   "source": [
    "2. Transformation of the pocket in .pdbqt w openbabel"
   ]
  },
  {
   "cell_type": "code",
   "execution_count": 23,
   "metadata": {},
   "outputs": [
    {
     "name": "stdout",
     "output_type": "stream",
     "text": [
      "Downloading PDB structure '6zsl'...\n"
     ]
    }
   ],
   "source": [
    "import subprocess\n",
    "\n",
    "def transformation_pdb_to_pdbqt(structure_name, pdb_content_lines):\n",
    "    structure_pdb = f\"./NSP13/{structure_name}.pdb\"\n",
    "    structure_pdbqt = f\"./NSP13/{structure_name}.pdbqt\"\n",
    "    \n",
    "     # Convertis la liste de lignes en une seule chaîne\n",
    "    pdb_content = '\\n'.join(pdb_content_lines)\n",
    "    \n",
    "    with open(structure_pdb, 'w') as f:\n",
    "        f.write(pdb_content)\n",
    "    \n",
    "    subprocess.run(['babel', structure_pdb, '-O', structure_pdbqt])\n",
    "    \n",
    "    return structure_pdbqt\n",
    "\n",
    "\n",
    "structure_name =\"6zsl\"\n",
    "structure_content = retrive_nsp13(structure_name)\n",
    "nsp13_pdbqt = transformation_pdb_to_pdbqt(structure_name, structure_content)\n"
   ]
  },
  {
   "cell_type": "code",
   "execution_count": 24,
   "metadata": {},
   "outputs": [],
   "source": [
    "# 2. Retrieve the ligand and the protein in format .pdbqt\n",
    "# Conversion was done manually using autodocks GUI interface, \n",
    "# with the following tutorial:\n",
    "# https://www.youtube.com/watch?v=LqRy24lnHVM\n",
    "# It can certainly be done by command line\n",
    "fpath_ligand = \"ligands/zinc_db_pdbqt/ZINC001485529916_prepared.pdbqt\"\n",
    "fpath_prot = \"NSP13/6zsl.pdbqt\" \n",
    "\n",
    "# 3. Create config file\n",
    "config = f\"\"\"receptor = {fpath_prot}\n",
    "ligand = {fpath_ligand}\n",
    "\n",
    "center_x = {center_x}\n",
    "center_y = {center_y}\n",
    "center_z = {center_z}\n",
    "\n",
    "size_x = 80\n",
    "size_y = 80\n",
    "size_z = 80\n",
    "\n",
    "out = vina_out.pdbqt\n",
    "log = logs_vina.txt\n",
    "num_modes = 10\n",
    "energy_range = 4\"\"\"\n",
    "\n",
    "file_path = \"config.txt\"\n",
    "with open(file_path, \"w\") as file:\n",
    "    file.write(config)"
   ]
  },
  {
   "cell_type": "code",
   "execution_count": 25,
   "metadata": {},
   "outputs": [
    {
     "data": {
      "text/plain": [
       "CompletedProcess(args=['../Meet-U-2023-2024/dockingjob/vina/vina.exe', '--config', 'config.txt'], returncode=0, stdout='#################################################################\\n# If you used AutoDock Vina in your work, please cite:          #\\n#                                                               #\\n# O. Trott, A. J. Olson,                                        #\\n# AutoDock Vina: improving the speed and accuracy of docking    #\\n# with a new scoring function, efficient optimization and       #\\n# multithreading, Journal of Computational Chemistry 31 (2010)  #\\n# 455-461                                                       #\\n#                                                               #\\n# DOI 10.1002/jcc.21334                                         #\\n#                                                               #\\n# Please see http://vina.scripps.edu for more information.      #\\n#################################################################\\n\\nWARNING: The search space volume > 27000 Angstrom^3 (See FAQ)\\nDetected 8 CPUs\\nReading input ... done.\\nSetting up the scoring function ... done.\\nAnalyzing the binding site ... done.\\nUsing random seed: -1000764164\\nPerforming search ... \\n0%   10   20   30   40   50   60   70   80   90   100%\\n|----|----|----|----|----|----|----|----|----|----|\\n***************************************************\\ndone.\\nRefining results ... done.\\n\\nmode |   affinity | dist from best mode\\n     | (kcal/mol) | rmsd l.b.| rmsd u.b.\\n-----+------------+----------+----------\\n   1         -0.0      0.000      0.000\\n   2         -0.0     14.274     16.839\\n   3         -0.0     70.791     73.664\\n   4         -0.0     53.017     55.365\\n   5          0.0     50.570     52.399\\n   6          0.0     17.872     20.418\\n   7          0.0      2.638      5.377\\n   8          0.0     37.408     40.929\\n   9          0.0     58.894     61.707\\n  10          0.0     39.832     41.926\\nWriting output ... done.\\n', stderr='')"
      ]
     },
     "execution_count": 25,
     "metadata": {},
     "output_type": "execute_result"
    }
   ],
   "source": [
    "import subprocess\n",
    "vina_path = \"../Meet-U-2023-2024/dockingjob/vina/vina.exe\"\n",
    "subprocess.run([vina_path, \"--config\", \"config.txt\"], capture_output=True, text=True)"
   ]
  }
 ],
 "metadata": {
  "kernelspec": {
   "display_name": "Python 3 (ipykernel)",
   "language": "python",
   "name": "python3"
  },
  "language_info": {
   "codemirror_mode": {
    "name": "ipython",
    "version": 3
   },
   "file_extension": ".py",
   "mimetype": "text/x-python",
   "name": "python",
   "nbconvert_exporter": "python",
   "pygments_lexer": "ipython3",
   "version": "3.12.1"
  }
 },
 "nbformat": 4,
 "nbformat_minor": 2
}
